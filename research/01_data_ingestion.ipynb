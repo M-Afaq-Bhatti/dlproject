{
 "cells": [
  {
   "cell_type": "code",
   "execution_count": 17,
   "id": "83f2a6b0",
   "metadata": {},
   "outputs": [],
   "source": [
    "import os"
   ]
  },
  {
   "cell_type": "code",
   "execution_count": 18,
   "id": "aaf88632",
   "metadata": {},
   "outputs": [
    {
     "data": {
      "text/plain": [
       "'d:\\\\dlproject'"
      ]
     },
     "execution_count": 18,
     "metadata": {},
     "output_type": "execute_result"
    }
   ],
   "source": [
    "%pwd"
   ]
  },
  {
   "cell_type": "code",
   "execution_count": 19,
   "id": "47d9d6e9",
   "metadata": {},
   "outputs": [],
   "source": [
    "os.chdir(\"../\")"
   ]
  },
  {
   "cell_type": "code",
   "execution_count": 20,
   "id": "d82c0e1d",
   "metadata": {},
   "outputs": [
    {
     "data": {
      "text/plain": [
       "'d:\\\\'"
      ]
     },
     "execution_count": 20,
     "metadata": {},
     "output_type": "execute_result"
    }
   ],
   "source": [
    "%pwd"
   ]
  },
  {
   "cell_type": "code",
   "execution_count": 34,
   "id": "69818b54",
   "metadata": {},
   "outputs": [],
   "source": [
    "from dataclasses import dataclass\n",
    "from pathlib import Path\n",
    "\n",
    "\n",
    "@dataclass(frozen=True)\n",
    "class DataIngestionConfig:\n",
    "    root_dir: Path\n",
    "    source_URL: str\n",
    "    local_data_file: Path\n",
    "    unzip_dir: Path"
   ]
  },
  {
   "cell_type": "code",
   "execution_count": 35,
   "id": "316ccffe",
   "metadata": {},
   "outputs": [],
   "source": [
    "from cnnClassifier.constants import *\n",
    "from cnnClassifier.utils.common import read_yaml, create_directories"
   ]
  },
  {
   "cell_type": "code",
   "execution_count": 36,
   "id": "980e8d2a",
   "metadata": {},
   "outputs": [],
   "source": [
    "class ConfigurationManager:\n",
    "    def __init__(\n",
    "        self,\n",
    "        config_filepath = CONFIG_FILE_PATH,\n",
    "        params_filepath = PARAMS_FILE_PATH):\n",
    "\n",
    "        self.config = read_yaml(config_filepath)\n",
    "        self.params = read_yaml(params_filepath)\n",
    "\n",
    "        create_directories([self.config.artifacts_root])\n",
    "\n",
    "\n",
    "    \n",
    "    def get_data_ingestion_config(self) -> DataIngestionConfig:\n",
    "        config = self.config.data_ingestion\n",
    "\n",
    "        create_directories([config.root_dir])\n",
    "\n",
    "        data_ingestion_config = DataIngestionConfig(\n",
    "            root_dir=config.root_dir,\n",
    "            source_URL=config.source_URL,\n",
    "            local_data_file=config.local_data_file,\n",
    "            unzip_dir=config.unzip_dir \n",
    "        )\n",
    "\n",
    "        return data_ingestion_config"
   ]
  },
  {
   "cell_type": "code",
   "execution_count": 37,
   "id": "298cfcc6",
   "metadata": {},
   "outputs": [],
   "source": [
    "import os\n",
    "import zipfile\n",
    "import gdown\n",
    "from cnnClassifier import logger\n",
    "from cnnClassifier.utils.common import get_size"
   ]
  },
  {
   "cell_type": "code",
   "execution_count": 45,
   "id": "4bdce36c",
   "metadata": {},
   "outputs": [],
   "source": [
    "import py7zr  # Make sure this is at the top of your file\n",
    "class DataIngestion:\n",
    "    def __init__(self, config: DataIngestionConfig):\n",
    "        self.config = config\n",
    "\n",
    "\n",
    "    \n",
    "    def download_file(self) -> str:\n",
    "        '''\n",
    "        Fetch data from the url\n",
    "        '''\n",
    "        try: \n",
    "            dataset_url = self.config.source_URL\n",
    "            zip_download_dir = self.config.local_data_file\n",
    "            os.makedirs(os.path.dirname(zip_download_dir), exist_ok=True)\n",
    "\n",
    "            logger.info(f\"Downloading data from {dataset_url} into file {zip_download_dir}\")\n",
    "\n",
    "            file_id = dataset_url.split(\"/\")[-2]\n",
    "            prefix = 'https://drive.google.com/uc?/export=download&id='\n",
    "            gdown.download(prefix + file_id, zip_download_dir, quiet=False)\n",
    "\n",
    "            logger.info(f\"Downloaded data from {dataset_url} into file {zip_download_dir}\")\n",
    "    \n",
    "        except Exception as e:\n",
    "            raise e\n",
    "\n",
    "        \n",
    "\n",
    "    def extract_zip_file(self):\n",
    "        \"\"\"\n",
    "        Extracts the .7z file into the data directory\n",
    "        \"\"\"\n",
    "        unzip_path = self.config.unzip_dir\n",
    "        os.makedirs(unzip_path, exist_ok=True)\n",
    "        \n",
    "        try:\n",
    "            with py7zr.SevenZipFile(self.config.local_data_file, mode='r') as archive:\n",
    "                archive.extractall(path=unzip_path)\n",
    "                logger.info(f\"Extracted .7z file to {unzip_path}\")\n",
    "        except Exception as e:\n",
    "            logger.error(f\"Failed to extract .7z file: {e}\")\n",
    "            raise e\n"
   ]
  },
  {
   "cell_type": "code",
   "execution_count": 46,
   "id": "c1a81479",
   "metadata": {},
   "outputs": [
    {
     "name": "stdout",
     "output_type": "stream",
     "text": [
      "[2025-04-20 08:18:56,787: INFO: common: yaml file: config\\config.yaml loaded successfully]\n",
      "[2025-04-20 08:18:56,793: INFO: common: yaml file: params.yaml loaded successfully]\n",
      "[2025-04-20 08:18:56,794: INFO: common: created directory at: artifacts]\n",
      "[2025-04-20 08:18:56,798: INFO: common: created directory at: artifacts/data_ingestion]\n",
      "[2025-04-20 08:18:56,800: INFO: 20753405: Downloading data from https://drive.google.com/file/d/1Bg7xMZZ_LgyDZFQVAhY9mEYvcOG4CCMu/view?usp=drive_link into file artifacts/data_ingestion/data.zip]\n"
     ]
    },
    {
     "name": "stderr",
     "output_type": "stream",
     "text": [
      "Downloading...\n",
      "From (original): https://drive.google.com/uc?/export=download&id=1Bg7xMZZ_LgyDZFQVAhY9mEYvcOG4CCMu\n",
      "From (redirected): https://drive.google.com/uc?%2Fexport=download&id=1Bg7xMZZ_LgyDZFQVAhY9mEYvcOG4CCMu&confirm=t&uuid=18b7fafc-f324-4e78-b1e6-603760cb8bb7\n",
      "To: d:\\dlproject\\artifacts\\data_ingestion\\data.zip\n",
      "100%|██████████| 43.3M/43.3M [00:20<00:00, 2.07MB/s]"
     ]
    },
    {
     "name": "stdout",
     "output_type": "stream",
     "text": [
      "[2025-04-20 08:20:18,434: INFO: 20753405: Downloaded data from https://drive.google.com/file/d/1Bg7xMZZ_LgyDZFQVAhY9mEYvcOG4CCMu/view?usp=drive_link into file artifacts/data_ingestion/data.zip]\n"
     ]
    },
    {
     "name": "stderr",
     "output_type": "stream",
     "text": [
      "\n"
     ]
    },
    {
     "name": "stdout",
     "output_type": "stream",
     "text": [
      "[2025-04-20 08:21:16,748: INFO: 20753405: Extracted .7z file to artifacts/data_ingestion]\n"
     ]
    }
   ],
   "source": [
    "try:\n",
    "    config = ConfigurationManager()\n",
    "    data_ingestion_config = config.get_data_ingestion_config()\n",
    "    data_ingestion = DataIngestion(config=data_ingestion_config)\n",
    "    data_ingestion.download_file()\n",
    "    data_ingestion.extract_zip_file()\n",
    "except Exception as e:\n",
    "    raise e"
   ]
  },
  {
   "cell_type": "code",
   "execution_count": 44,
   "id": "989ce154",
   "metadata": {},
   "outputs": [
    {
     "name": "stdout",
     "output_type": "stream",
     "text": [
      "Collecting py7zr\n",
      "  Downloading py7zr-0.22.0-py3-none-any.whl (67 kB)\n",
      "                                              0.0/67.9 kB ? eta -:--:--\n",
      "     ------------------                       30.7/67.9 kB ? eta -:--:--\n",
      "     ----------------------------           51.2/67.9 kB 660.6 kB/s eta 0:00:01\n",
      "     -------------------------------------- 67.9/67.9 kB 529.0 kB/s eta 0:00:00\n",
      "Collecting texttable (from py7zr)\n",
      "  Downloading texttable-1.7.0-py2.py3-none-any.whl (10 kB)\n",
      "Collecting pycryptodomex>=3.16.0 (from py7zr)\n",
      "  Downloading pycryptodomex-3.22.0-cp37-abi3-win_amd64.whl (1.8 MB)\n",
      "                                              0.0/1.8 MB ? eta -:--:--\n",
      "     --                                       0.1/1.8 MB 5.5 MB/s eta 0:00:01\n",
      "     --                                       0.1/1.8 MB 1.3 MB/s eta 0:00:02\n",
      "     -----                                    0.2/1.8 MB 1.7 MB/s eta 0:00:01\n",
      "     -----                                    0.2/1.8 MB 1.7 MB/s eta 0:00:01\n",
      "     ---------                                0.4/1.8 MB 1.8 MB/s eta 0:00:01\n",
      "     ----------                               0.5/1.8 MB 2.1 MB/s eta 0:00:01\n",
      "     ----------------------                   1.0/1.8 MB 2.9 MB/s eta 0:00:01\n",
      "     ----------------------                   1.0/1.8 MB 2.6 MB/s eta 0:00:01\n",
      "     -------------------------------          1.4/1.8 MB 3.3 MB/s eta 0:00:01\n",
      "     -------------------------------          1.4/1.8 MB 3.3 MB/s eta 0:00:01\n",
      "     --------------------------------         1.4/1.8 MB 2.6 MB/s eta 0:00:01\n",
      "     ---------------------------------------  1.8/1.8 MB 3.2 MB/s eta 0:00:01\n",
      "     ---------------------------------------  1.8/1.8 MB 3.2 MB/s eta 0:00:01\n",
      "     ---------------------------------------- 1.8/1.8 MB 2.7 MB/s eta 0:00:00\n",
      "Collecting pyzstd>=0.15.9 (from py7zr)\n",
      "  Downloading pyzstd-0.16.2-cp311-cp311-win_amd64.whl (245 kB)\n",
      "                                              0.0/245.1 kB ? eta -:--:--\n",
      "     -----------------------------------   235.5/245.1 kB 14.1 MB/s eta 0:00:01\n",
      "     -------------------------------------- 245.1/245.1 kB 5.0 MB/s eta 0:00:00\n",
      "Collecting pyppmd<1.2.0,>=1.1.0 (from py7zr)\n",
      "  Downloading pyppmd-1.1.1-cp311-cp311-win_amd64.whl (46 kB)\n",
      "                                              0.0/46.5 kB ? eta -:--:--\n",
      "     ---------------------------------------- 46.5/46.5 kB 2.3 MB/s eta 0:00:00\n",
      "Collecting pybcj<1.1.0,>=1.0.0 (from py7zr)\n",
      "  Downloading pybcj-1.0.3-cp311-cp311-win_amd64.whl (24 kB)\n",
      "Collecting multivolumefile>=0.2.3 (from py7zr)\n",
      "  Downloading multivolumefile-0.2.3-py3-none-any.whl (17 kB)\n",
      "Collecting inflate64<1.1.0,>=1.0.0 (from py7zr)\n",
      "  Downloading inflate64-1.0.1-cp311-cp311-win_amd64.whl (35 kB)\n",
      "Collecting brotli>=1.1.0 (from py7zr)\n",
      "  Downloading Brotli-1.1.0-cp311-cp311-win_amd64.whl (357 kB)\n",
      "                                              0.0/357.3 kB ? eta -:--:--\n",
      "     -------------------------------------- 357.3/357.3 kB 7.4 MB/s eta 0:00:00\n",
      "Requirement already satisfied: psutil in .\\emotions\\lib\\site-packages (from py7zr) (7.0.0)\n",
      "Installing collected packages: texttable, brotli, pyzstd, pyppmd, pycryptodomex, pybcj, multivolumefile, inflate64, py7zr\n",
      "Successfully installed brotli-1.1.0 inflate64-1.0.1 multivolumefile-0.2.3 py7zr-0.22.0 pybcj-1.0.3 pycryptodomex-3.22.0 pyppmd-1.1.1 pyzstd-0.16.2 texttable-1.7.0\n",
      "Note: you may need to restart the kernel to use updated packages.\n"
     ]
    },
    {
     "name": "stderr",
     "output_type": "stream",
     "text": [
      "\n",
      "[notice] A new release of pip is available: 23.1.2 -> 25.0.1\n",
      "[notice] To update, run: python.exe -m pip install --upgrade pip\n"
     ]
    }
   ],
   "source": [
    "%pip install py7zr\n"
   ]
  },
  {
   "cell_type": "code",
   "execution_count": null,
   "id": "0948027e",
   "metadata": {},
   "outputs": [],
   "source": []
  }
 ],
 "metadata": {
  "kernelspec": {
   "display_name": "emotions",
   "language": "python",
   "name": "python3"
  },
  "language_info": {
   "codemirror_mode": {
    "name": "ipython",
    "version": 3
   },
   "file_extension": ".py",
   "mimetype": "text/x-python",
   "name": "python",
   "nbconvert_exporter": "python",
   "pygments_lexer": "ipython3",
   "version": "3.11.4"
  }
 },
 "nbformat": 4,
 "nbformat_minor": 5
}
