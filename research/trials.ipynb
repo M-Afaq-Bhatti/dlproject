{
 "cells": [
  {
   "cell_type": "code",
   "execution_count": 1,
   "id": "3ed2cf5b",
   "metadata": {},
   "outputs": [],
   "source": [
    "from box import ConfigBox"
   ]
  },
  {
   "cell_type": "code",
   "execution_count": 2,
   "id": "ccfc1d5e",
   "metadata": {},
   "outputs": [],
   "source": [
    "d2 = {'key','value','key2','value2'}"
   ]
  },
  {
   "cell_type": "code",
   "execution_count": 3,
   "id": "02aa325d",
   "metadata": {},
   "outputs": [],
   "source": [
    "import gdown"
   ]
  },
  {
   "cell_type": "code",
   "execution_count": 1,
   "id": "a3d7e9d3",
   "metadata": {},
   "outputs": [],
   "source": [
    "url = \"https://drive.google.com/file/d/1Eo4uGow1T8NTLY5GHfEShQOL6d0HbqEo/view?usp=drive_link\""
   ]
  },
  {
   "cell_type": "code",
   "execution_count": 2,
   "id": "ea272285",
   "metadata": {},
   "outputs": [
    {
     "data": {
      "text/plain": [
       "str"
      ]
     },
     "execution_count": 2,
     "metadata": {},
     "output_type": "execute_result"
    }
   ],
   "source": [
    "type(url)"
   ]
  },
  {
   "cell_type": "code",
   "execution_count": 3,
   "id": "74f38ea4",
   "metadata": {},
   "outputs": [],
   "source": [
    "file_id = url.split(\"/\")[-2]"
   ]
  },
  {
   "cell_type": "code",
   "execution_count": 8,
   "id": "7866c7eb",
   "metadata": {},
   "outputs": [
    {
     "name": "stderr",
     "output_type": "stream",
     "text": [
      "Downloading...\n",
      "From (original): https://drive.google.com/uc?/export=download&id=1Bg7xMZZ_LgyDZFQVAhY9mEYvcOG4CCMu\n",
      "From (redirected): https://drive.google.com/uc?%2Fexport=download&id=1Bg7xMZZ_LgyDZFQVAhY9mEYvcOG4CCMu&confirm=t&uuid=35753e61-370f-48b4-98dd-d5b694121098\n",
      "To: d:\\dlproject\\research\\Emotions.zip\n",
      "100%|██████████| 43.3M/43.3M [00:19<00:00, 2.17MB/s]\n"
     ]
    },
    {
     "data": {
      "text/plain": [
       "'Emotions.zip'"
      ]
     },
     "execution_count": 8,
     "metadata": {},
     "output_type": "execute_result"
    }
   ],
   "source": [
    "prefix = 'https://drive.google.com/uc?/export=download&id='\n",
    "gdown.download(prefix+file_id, \"Emotions.zip\")"
   ]
  },
  {
   "cell_type": "code",
   "execution_count": null,
   "id": "a30e44fe",
   "metadata": {},
   "outputs": [],
   "source": []
  }
 ],
 "metadata": {
  "kernelspec": {
   "display_name": "emotions",
   "language": "python",
   "name": "python3"
  },
  "language_info": {
   "codemirror_mode": {
    "name": "ipython",
    "version": 3
   },
   "file_extension": ".py",
   "mimetype": "text/x-python",
   "name": "python",
   "nbconvert_exporter": "python",
   "pygments_lexer": "ipython3",
   "version": "3.11.4"
  }
 },
 "nbformat": 4,
 "nbformat_minor": 5
}
